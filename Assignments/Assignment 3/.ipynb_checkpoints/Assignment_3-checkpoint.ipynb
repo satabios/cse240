{
 "cells": [
  {
   "cell_type": "code",
   "execution_count": null,
   "metadata": {
    "id": "T6LzXTtwW_cj"
   },
   "outputs": [],
   "source": [
    "%matplotlib inline"
   ]
  },
  {
   "cell_type": "markdown",
   "metadata": {
    "id": "GWCPCDvGW_cm"
   },
   "source": [
    "# Assignment 3\n",
    "\n",
    "**DUE: Tuesday, February 20th 2023 at 5:00pm**\n",
    "\n",
    "Turn in the assignment via Canvas with the following *three* parts:\n",
    "1.  The ipynb.\n",
    "2.  PDF reports including their ipynb screenshots\n",
    "3.  A survey\n",
    "\n",
    "  a.  Create a new copy in google drive. Complete the survey using the provided drop down menu, and submit a csv file or google sheet link.\n",
    "\n",
    "  b.  https://docs.google.com/spreadsheets/d/1FijZmoQEsOM7NXk50r-yMF6OLU9EbuGUd8YFcfIR-00/edit?usp=sharing\n",
    "\n",
    "To write legible answers you will need to be familiar with both [Markdown](https://github.com/adam-p/markdown-here/wiki/Markdown-Cheatsheet) and [Latex](https://www.latex-tutorial.com/tutorials/amsmath/)\n",
    "\n",
    "Before you turn this problem in, make sure everything runs as expected. To do so, restart the kernel and run all cells (in the menubar, select Runtime→→Restart and run all).\n",
    "#### Show your work!\n",
    "Whenever you are asked to find the solution to a problem, be sure to also **show how you arrived** at your answer.\n",
    "\n",
    "### Resources\n",
    "\n",
    "[1] https://community.plotly.com/t/two-3d-surface-with-different-color-map/18931/2 (Different color plots plotly)\n",
    "\n",
    "[2] https://plotly.com/python/3d-surface-plots/ [plotting surfaces]\n",
    "\n",
    "[3] https://community.plotly.com/t/3d-scatter-plot-with-surface-plot/27556/5 [plotting scatter plots]\n",
    "\n",
    "[4] https://community.plotly.com/t/what-colorscales-are-available-in-plotly-and-which-are-the-default/2079 [color scales]"
   ]
  },
  {
   "cell_type": "code",
   "execution_count": null,
   "metadata": {
    "id": "JpuqyxTOQprb"
   },
   "outputs": [],
   "source": [
    "%matplotlib inline"
   ]
  },
  {
   "cell_type": "code",
   "execution_count": null,
   "metadata": {
    "id": "HtYVVkQVW_cm"
   },
   "outputs": [],
   "source": [
    "NAME = \"\"\n",
    "STUDENT_ID = \"\""
   ]
  },
  {
   "cell_type": "markdown",
   "metadata": {
    "id": "Hc-OUgRxWIPM"
   },
   "source": [
    "## Problem 1: Local Search on the Ackley Surface\n",
    "---\n",
    "\n",
    "As discussed in class with Local Search problems the path to the goal is not as important as the goal itself. In this question we work with the Ackley function, a non-convex function typically used as a test for optimization algorithms.\n",
    "\n",
    "The Achkey function has many local optima but only one global optimum that is $f(0,0) = 0$. Interestingly enough it might not be that easy to find this solution.\n",
    "\n",
    "The Ackley function is defined as:\n",
    "\n",
    "$$f(x,y):= -20exp[-0.2\\sqrt{0.5(x^2 + y^2)}] -exp[0.5(cos(2\\pi x) + cos(2\\pi y))] + e + 20$$\n",
    "\n",
    "The figure below illustrates the result of running three optimization methods on the Ackley Function. These solutions were found using methods A, B and C.\n",
    "\n",
    "\n",
    "![](https://drive.google.com/uc?id=1K0_iokZu-TgjD0xrfGmWQbb-r67kINI0)\n",
    "\n",
    "\n",
    "In this question, you will implement 3 optimization algorithms: \n",
    "\n",
    "1.   Stochastic Hill Climbing with Restarts (SHCR)\n",
    "2.   Simulated Annealing (SA)\n",
    "3.   Local Beam Search (LBS)\n",
    "\n",
    "**Deliverables**\n",
    "\n",
    "1. Complete this Notebook with implementation of SHCR, SA and LBS.\n",
    "2. For each algorithm **visualize** the candidate solutions found at each\n",
    "step using the provided ```create_ackley_figure()``` function. please see the image above an example of an image that should be included in your submission.\n",
    "\n"
   ]
  },
  {
   "cell_type": "code",
   "execution_count": null,
   "metadata": {
    "id": "p_MNOmr6RWYS"
   },
   "outputs": [],
   "source": [
    "import numpy as np\n",
    "from numpy import arange\n",
    "from numpy import exp\n",
    "from numpy import sqrt\n",
    "from numpy import cos\n",
    "from numpy import e\n",
    "from numpy import pi\n",
    "from numpy import meshgrid\n",
    "from numpy.random import randn\n",
    "from numpy.random import rand\n",
    "from numpy.random import seed\n",
    "# hill climbing search of the ackley objective function\n",
    "from numpy import asarray\n",
    "import plotly.graph_objects as go\n",
    "\n",
    "# objective function\n",
    "def f(x, y):\n",
    "\treturn -20.0 * exp(-0.2 * sqrt(0.5 * (x**2 + y**2))) - exp(0.5 * (cos(2 * pi * x) + cos(2 * pi * y))) + e + 20\n",
    "\n",
    "def create_ackley_figure(solution_points=np.array([]), soln_names=['A','B,','C']):\n",
    "  \"\"\"\n",
    "  :param solution_points A numpy array of dimensions [i, n, 2]\n",
    "  where i is the number of solution points you want to plot and n is the \n",
    "  number of steps used in estimating your solution. In each case use the same \n",
    "  number of steps if you want to plot all solutions on the same figure.\n",
    "\n",
    "  :return An interactive Ackley function figure with/without solution points.\n",
    "  \"\"\"\n",
    "  # define range for input\n",
    "  r_min, r_max = -5.0, 5.0\n",
    "  # sample input range uniformly at 0.1 increments\n",
    "  xaxis = arange(r_min, r_max, 0.1) # (100,)\n",
    "  yaxis = arange(r_min, r_max, 0.1) # (100,)\n",
    "  # create a mesh from the axis\n",
    "  x, y = meshgrid(xaxis, yaxis)\n",
    "\n",
    "  # compute targets\n",
    "  results = f(x, y)\n",
    "\n",
    "  figure = go.Figure(data=[go.Surface(z=results, x=x, y=y,colorscale='Blues',showscale=False)])\n",
    "  figure.update_layout(title='Ackley Function', autosize=False,\n",
    "                  width=500, height=500,\n",
    "                  margin=dict(l=65, r=50, b=65, t=90))\n",
    "  \n",
    "  if solution_points.size:\n",
    "    soln_colors = ['Reds', 'Rainbow', 'Viridis']\n",
    "    for i in range(len(solution_points)):\n",
    "      x_sln = solution_points[i][:,0]\n",
    "      y_sln = solution_points[i][:,1]\n",
    "      zdata = f(x_sln, y_sln)\n",
    "      figure.add_scatter3d(name=soln_names[i], x=x_sln, y=y_sln, z=zdata, mode='markers',\n",
    "      marker=dict(size=1, color=x_sln.flatten(), colorscale=soln_colors[i]))\n",
    "      \n",
    "      figure.update_layout(showlegend=True)\n",
    "      \n",
    "  return figure"
   ]
  },
  {
   "cell_type": "code",
   "execution_count": null,
   "metadata": {
    "id": "OzlZcNS5q6HK"
   },
   "outputs": [],
   "source": [
    "### RUN THIS ###\n",
    "\"\"\"\n",
    "This is the Ackley Function.\n",
    "\"\"\"\n",
    "ack_figure = create_ackley_figure()\n",
    "ack_figure"
   ]
  },
  {
   "cell_type": "markdown",
   "metadata": {
    "id": "ycA0m8jeLvBG"
   },
   "source": [
    "### General Function Definitions"
   ]
  },
  {
   "cell_type": "code",
   "execution_count": null,
   "metadata": {
    "id": "MbSZyqMOLuBu"
   },
   "outputs": [],
   "source": [
    "# objective function\n",
    "def objective(v):\n",
    "  \"\"\"\n",
    "  This function defines the Ackley surface, it has a minimum of 0. This \n",
    "  can be used to test if we have found points that yield the minimum value.\n",
    "  :param v, a tuple representing a 2D point being tested.\n",
    "\n",
    "  returns a value in the range [-5.0, 5.0]\n",
    "  \"\"\"\n",
    "  x, y = v\n",
    "  return -20.0 * exp(-0.2 * sqrt(0.5 * (x**2 + y**2))) - exp(0.5 * (cos(2 * pi * x) + cos(2 * pi * y))) + e + 20\n",
    "\n",
    "  \n",
    "# check if a point is within the bounds of the search\n",
    "def in_bounds(point, bounds=asarray([[-5.0, 5.0], [-5.0, 5.0]])):\n",
    "  \"\"\"\n",
    "  It is possible our optimzation method could move us outside of our search \n",
    "  space, so it is helpful to check.\n",
    "  :param point a tuple representing a 2D point\n",
    "  :param a 2D array, that describes the bounds of each dimension of our point.\n",
    "  returns a Boolean of whether the point lies in the bounds or not.\n",
    "  \"\"\"\n",
    "\t# enumerate all dimensions of the point\n",
    "  for d in range(len(bounds)):\n",
    "    # check if out of bounds for this dimension\n",
    "    if point[d] < bounds[d, 0] or point[d] > bounds[d, 1]:\n",
    "      return False\n",
    "  return True"
   ]
  },
  {
   "cell_type": "markdown",
   "metadata": {
    "id": "3Y7O57wu8HwX"
   },
   "source": [
    "### Part 1) Stochastic Hill Climbing with Restarts\n",
    "\n",
    "1.   Implement SHCR in the cell below.\n",
    "2.   Visualize and comment on the candidate points visited.\n"
   ]
  },
  {
   "cell_type": "code",
   "execution_count": 4,
   "metadata": {
    "id": "W47MflPG8Pqf"
   },
   "outputs": [
    {
     "ename": "IndentationError",
     "evalue": "unexpected indent (1118488862.py, line 24)",
     "output_type": "error",
     "traceback": [
      "\u001b[0;36m  File \u001b[0;32m\"/var/folders/cr/np70dxds62s1rhj2mtr8hlw80000gn/T/ipykernel_1883/1118488862.py\"\u001b[0;36m, line \u001b[0;32m24\u001b[0m\n\u001b[0;31m    def random_point(bounds):\u001b[0m\n\u001b[0m    ^\u001b[0m\n\u001b[0;31mIndentationError\u001b[0m\u001b[0;31m:\u001b[0m unexpected indent\n"
     ]
    }
   ],
   "source": [
    "# stochastic hill climbing with restarts algorithm\n",
    "def stochastic_hillclimbing(objective, bounds, n_iterations, step_size, start_pt):\n",
    "  \"\"\"\n",
    "  :param objective, the function we are trying to optimize\n",
    "  :param bounds, the boundaries of the problem\n",
    "  :param n_iterations number of times to repeat stochastic hill climbing\n",
    "  :param step_size how much we should move\n",
    "  :param start_pt the point we start optimizing from.\n",
    "  returns [solution, solution_value, candidates]\n",
    "  \"\"\"\n",
    "  ### YOUR CODE HERE ###\n",
    "  return\n",
    "\n",
    "def random_restarts(objective, bounds, n_iter, step_size, n_restarts):\n",
    "    \n",
    "  \"\"\"\n",
    "  :param objective, the function we are trying to optimize\n",
    "  :param bounds, the boundaries of the problem\n",
    "  :param n_iter number of times to repeat stochastic hill climbing \n",
    "  :param step_size how much we should move\n",
    "  :param n_restarts, the number of times we restart.\n",
    "  returns [best solution, best solution value, visited points]\n",
    "  \"\"\"\n",
    "    def random_point(bounds):\n",
    "        return [random.uniform(bounds[i][0], bounds[i][1]) for i in range(len(bounds))]\n",
    "\n",
    "    best_solution = None\n",
    "    best_value = float(\"inf\")\n",
    "    visited = []\n",
    "\n",
    "    for _ in range(n_restarts):\n",
    "        solution = random_point(bounds)\n",
    "        for _ in range(n_iter):\n",
    "            candidate = [solution[i] + random.uniform(-step_size, step_size) for i in range(len(bounds))]\n",
    "            candidate = np.clip(candidate, bounds[:, 0], bounds[:, 1])\n",
    "            candidate_value = objective(candidate)\n",
    "            if candidate_value < best_value:\n",
    "                best_solution = candidate\n",
    "                best_value = candidate_value\n",
    "                visited.append(candidate)\n",
    "\n",
    "    return best_solution, best_value, visited\n",
    "\n",
    "\n",
    "\n",
    "\n",
    "# seed the pseudorandom number generator\n",
    "seed(240)\n",
    "# define range for input\n",
    "bounds = asarray([[-5.0, 5.0], [-5.0, 5.0]])\n",
    "# define the total iterations\n",
    "n_iter = 1000\n",
    "# define the maximum step size\n",
    "step_size = 0.05\n",
    "# total number of random restarts\n",
    "n_restarts = 30\n",
    "# perform the hill climbing search\n",
    "best, score, shcr_candidates = random_restarts(objective, bounds, n_iter, step_size, n_restarts)\n",
    "print('Done!')\n",
    "print('f(%s) = %f' % (best, score))"
   ]
  },
  {
   "cell_type": "code",
   "execution_count": null,
   "metadata": {
    "id": "uWHYUCWORTNA"
   },
   "outputs": [],
   "source": [
    "# An example of plotting solutions from 3 optimziation methods.\n",
    "# all_method_candidates has shape [3, 1000, 2], the first dim is the number of solutions\n",
    "# the second dim is the number of steps taken in each method.\n",
    "shcr_candidates = np.random.rand(100,2) # EXAMPLE PURPOSES ONLY replace with your actual solution.\n",
    "shcr_candidates = shcr_candidates.reshape(-1,2)\n",
    "all_method_candidates = np.array([shcr_candidates])\n",
    "ack_figure = create_ackley_figure(all_method_candidates)\n",
    "ack_figure"
   ]
  },
  {
   "cell_type": "markdown",
   "metadata": {
    "id": "p4RTh8rHTSbr"
   },
   "source": [
    "[YOUR ANSWER HERE]"
   ]
  },
  {
   "cell_type": "markdown",
   "metadata": {
    "id": "ZC_QV1F0CmvJ"
   },
   "source": [
    "### Part 2) Simulated Annealing\n",
    "\n",
    "1.   Implement SA in the cell below.\n",
    "2.   Visualize and comment on the candidate points visited."
   ]
  },
  {
   "cell_type": "code",
   "execution_count": null,
   "metadata": {
    "id": "vIapdsyWCwjY"
   },
   "outputs": [],
   "source": [
    "def get_temperature_schedule(epoch, temp, diff):\n",
    "  \"\"\"\n",
    "  :param temp Temperature\n",
    "  :param epoch Iterations elapsed\n",
    "  :param diff Difference between value of candidate solution and value of best solution so far.\n",
    "  \"\"\"\n",
    "  # calculate temperature for current epoch\n",
    "  t = temp / float(epoch + 1)\n",
    "  # calculate acceptance criterion\n",
    "  criterion = exp(-diff / t)\n",
    "  return criterion\n",
    "\n",
    "# simulated annealing algorithm\n",
    "def simulated_annealing(objective, bounds, n_iterations, step_size, temp):\n",
    "  \"\"\" \n",
    "  :param objective, the function we are trying to optimize\n",
    "  :param bounds, the boundaries of the problem\n",
    "  :param n_iterations number of times to repeat stochastic hill climbing\n",
    "  :param step_size how much we should move\n",
    "  :param temp temperature for each epoch\n",
    "  returns [solution, solution_value, candidates] \n",
    "  \"\"\"\n",
    "  ### YOUR CODE HERE ###\n",
    "  return -1, -1, -1\n",
    "\n",
    "# seed the pseudorandom number generator\n",
    "seed(240)\n",
    "# define range for input\n",
    "bounds = asarray([[-5.0, 5.0], [-5.0, 5.0]])\n",
    "# define the total iterations\n",
    "n_iterations = 1000\n",
    "# define the maximum step size\n",
    "step_size = 0.1\n",
    "# initial temperature\n",
    "temp = 10\n",
    "# perform the simulated annealing search\n",
    "best, score, sa_candidates = simulated_annealing(objective, bounds, n_iterations, step_size, temp)\n",
    "print('Done!')\n",
    "print('f(%s) = %f' % (best, score))"
   ]
  },
  {
   "cell_type": "code",
   "execution_count": null,
   "metadata": {
    "id": "zBl9RDflH6WJ"
   },
   "outputs": [],
   "source": [
    "sa_candidates = np.random.rand(40,2)\n",
    "sa_candidates = sa_candidates.reshape(-1,2)\n",
    "all_method_candidates = np.array([shcr_candidates,sa_candidates])\n",
    "ack_figure = create_ackley_figure(all_method_candidates)\n",
    "ack_figure"
   ]
  },
  {
   "cell_type": "markdown",
   "metadata": {
    "id": "Tv-koHuMTq6C"
   },
   "source": [
    "[YOUR ANSWER HERE]"
   ]
  },
  {
   "cell_type": "markdown",
   "metadata": {
    "id": "XwLHeKD9C34Q"
   },
   "source": [
    "### Part 3) Local Beam Search\n",
    "\n",
    "\n",
    "\n",
    "1.   Implement LBS in the cell below.\n",
    "2.   Visualize and comment on the candidate points visited.\n",
    "3.   Compare all 3 implementations by commenting on the distribution of points on the Ackley surface and the empirical run time of each method.\n"
   ]
  },
  {
   "cell_type": "code",
   "execution_count": null,
   "metadata": {
    "id": "awURNg3hC_vn"
   },
   "outputs": [],
   "source": [
    "# generate the neighbors based on step size\n",
    "def generate_neighbors(point, step_size=0.1):\n",
    "    point = point.reshape(-1,1)\n",
    "    possible_steps = possible_steps = np.array([[step_size*i for i in range(-10,11)],\n",
    "                           [step_size*i for i in range(-10,11)]])\n",
    "    neighbors = point + possible_steps\n",
    "    return neighbors\n",
    "\n",
    "def local_beam_search(objective, bounds, step_size, k, n_iterations):\n",
    "  \"\"\" \n",
    "  :param objective, the function we are trying to optimize\n",
    "  :param bounds, the boundaries of the problem\n",
    "  :param k, how many candidates to consider\n",
    "  :param n_iterations, how long to search for.\n",
    "  returns [solution, solution_value, candidates] \n",
    "  \"\"\"\n",
    "  ### YOUR CODE HERE ###\n",
    "  return -1, -1, -1\n",
    "\n",
    "# seed the pseudorandom number generator\n",
    "seed(240)\n",
    "# define range for input\n",
    "bounds = asarray([[-5.0, 5.0], [-5.0, 5.0]])\n",
    "# define the total iterations\n",
    "n_iterations = 10\n",
    "# define the maximum step size\n",
    "step_size = 0.1\n",
    "# candidates to consider\n",
    "k = 1\n",
    "# perform the local beam search\n",
    "sequences = local_beam_search(objective, bounds, step_size, k, n_iterations)"
   ]
  },
  {
   "cell_type": "markdown",
   "metadata": {
    "id": "V6knahufT3ak"
   },
   "source": [
    "[YOUR ANSWER HERE]"
   ]
  },
  {
   "cell_type": "markdown",
   "metadata": {
    "id": "Q5DG1QAeZ7qj"
   },
   "source": [
    "## Problem 2: CSP\n",
    "---\n",
    "\n",
    "Consider the following constraint satisfaction problem. A linear graph has nodes of the following colors:\n",
    "\n",
    "- Red\n",
    "- Yellow\n",
    "- Green\n",
    "- Blue\n",
    "- Violet\n",
    "\n",
    "Each node has a domain of {1, 2, ..., 9}.\n",
    "\n",
    "Each node type has the following constraints on its value:\n",
    "\n",
    "- Red - No contraints\n",
    "- Yellow - equals the rightmost digit of of the product of all its neighbors\n",
    "- Green - equals the rightmost digit of the sum of all its neighbors \n",
    "- Blue - equals the leftmost digit of the sum of all its neighbors\n",
    "- Violet - equals the leftmost digit of the product of all of its neighbors\n",
    "\n",
    "As a reminder here is the pseudo code for the Min-Conflicts search algorithm:\n",
    "\n",
    "![minconflicts](https://images2017.cnblogs.com/blog/1126979/201712/1126979-20171224140802287-1871895433.png)\n",
    "\n",
    "**Notes:**\n",
    "\n",
    "- It's possible that you won't converge to a solution in a single run. Try a few runs to see if you get to a solution.\n",
    "- The testcases are to show you what a problem looks like, we will test/grade your program on different examples."
   ]
  },
  {
   "cell_type": "markdown",
   "metadata": {
    "id": "IeSJ4X8PX7vB"
   },
   "source": [
    "### Part 1) Implementation\n",
    "Complete the function ```solve_csp``` defined below. You may find some helper functions useful."
   ]
  },
  {
   "cell_type": "code",
   "execution_count": null,
   "metadata": {
    "id": "lbY3ORcxZ7ql"
   },
   "outputs": [],
   "source": [
    "def solve_csp(nodes, arcs, max_steps):\n",
    "    \"\"\"\n",
    "    This function solves the csp using the MinConflicts Search Algorithm.\n",
    "\n",
    "    :param nodes, a list of letters that indicates what type of node it is,\n",
    "                  the index of the node in the list indicates its id\n",
    "                  letters = {R, Y, G, B, V}\n",
    "                \n",
    "    :param arcs,  a list of tuples that contains two numbers, indicating the \n",
    "                  IDs of the nodes the arc connects. \n",
    "                \n",
    "    :param max_steps, max number of steps to make before giving up\n",
    "\n",
    "    returns a list of values for the solution to the CSP where the \n",
    "             index of the value corresponds the value for that given node.\n",
    "    \"\"\"\n",
    "    node_values = []\n",
    "    \n",
    "    ### YOUR CODE HERE ###\n",
    "\n",
    "\n",
    "    return node_values"
   ]
  },
  {
   "cell_type": "markdown",
   "metadata": {
    "id": "gNEiSXbSZ7qn"
   },
   "source": [
    "### Test Cases\n",
    "\n",
    "Below we've included 4 test cases to help you debug your code. Your submitted code will be tested on other cases as well, but if your implementation of the above Min-Conflicts search algorithm is able to solve these problems, you should be good to go."
   ]
  },
  {
   "cell_type": "code",
   "execution_count": null,
   "metadata": {
    "id": "dJLJWXYRZ7qo"
   },
   "outputs": [],
   "source": [
    "# test Case 1\n",
    "\n",
    "nodes = 'YGVRB'\n",
    "arcs = [(0,1), (0,2), (1,2), (1,3), (1,4), (2,3), (2,4)]\n",
    "max_steps = 1000\n",
    "\n",
    "for _ in range(max_steps):\n",
    "    sol = solve_csp(nodes, arcs, max_steps)\n",
    "    if sol != []:\n",
    "        break\n",
    "        \n",
    "all_solutions = [[1, 1, 1, 7, 2],[2, 1, 2, 4, 3],[2, 6, 7, 6, 1],[2, 8, 9, 6, 1],\n",
    "                 [3, 3, 1, 5, 4],[6, 2, 8, 7, 1],[6, 7, 8, 2, 1],[6, 9, 4, 8, 1]]\n",
    "\n",
    "if sol == []:\n",
    "    print('No solution')\n",
    "else:\n",
    "    if sol in all_solutions:\n",
    "        print('Solution found:', sol)\n",
    "    else:\n",
    "        print('ERROR: False solution found:', sol)"
   ]
  },
  {
   "cell_type": "code",
   "execution_count": null,
   "metadata": {
    "id": "DRwAUILSZ7qs"
   },
   "outputs": [],
   "source": [
    "# test Case 2\n",
    "\n",
    "nodes = 'YVBGR'\n",
    "arcs = [(0,1), (0,2), (1,3), (2,4)]\n",
    "max_steps = 1000\n",
    "\n",
    "for _ in range(max_steps):\n",
    "    sol = solve_csp(nodes, arcs, max_steps)\n",
    "    if sol != []:\n",
    "        print(nodes)\n",
    "        break\n",
    "        \n",
    "all_solutions = [[1, 1, 1, 1, 9], [1, 3, 7, 3, 6], [1, 7, 3, 7, 2], [1, 9, 9, 9, 8]]\n",
    "\n",
    "if sol == []:\n",
    "    print('No solution')\n",
    "else:\n",
    "    if sol in all_solutions:\n",
    "        print('Solution found:', sol)\n",
    "    else:\n",
    "        print('ERROR: False solution found:', sol)"
   ]
  },
  {
   "cell_type": "code",
   "execution_count": null,
   "metadata": {
    "id": "qYHsvoL6Z7qw"
   },
   "outputs": [],
   "source": [
    "# test Case 3\n",
    "\n",
    "nodes = 'VYGBR'\n",
    "arcs = [(0,1), (1,2), (2,3), (3,4)]\n",
    "max_steps = 1000\n",
    "\n",
    "for _ in range(max_steps):\n",
    "    sol = solve_csp(nodes, arcs, max_steps)\n",
    "    if sol != []:\n",
    "        print(nodes)\n",
    "        break\n",
    "        \n",
    "all_solutions = [[2, 2, 1, 9, 8],[3, 3, 1, 8, 7],[4, 4, 1, 7, 6],[5, 5, 1, 6, 5],[5, 5, 3, 8, 5],\n",
    "                 [6, 6, 1, 5, 4],[7, 7, 1, 4, 3],[8, 8, 1, 3, 2],[8, 8, 6, 8, 2],[9, 9, 1, 2, 1]]\n",
    "\n",
    "if sol == []:\n",
    "    print('No solution')\n",
    "else:\n",
    "    if sol in all_solutions:\n",
    "        print('Solution found:', sol)\n",
    "    else:\n",
    "        print('ERROR: False solution found:', sol)"
   ]
  },
  {
   "cell_type": "code",
   "execution_count": null,
   "metadata": {
    "id": "UwWh4sy1Z7q0"
   },
   "outputs": [],
   "source": [
    "# test Case 4\n",
    "\n",
    "nodes = 'YGVBR'\n",
    "arcs = [(0,1), (0,2), (1,3), (2,3), (3,4), (1,2)]\n",
    "max_steps = 1000\n",
    "\n",
    "for _ in range(max_steps):\n",
    "    sol = solve_csp(nodes, arcs, max_steps)\n",
    "    if sol != []:\n",
    "        print(nodes)\n",
    "        break\n",
    "        \n",
    "all_solutions = [[4, 4, 1, 9, 4],[4, 7, 2, 1, 1],[4, 7, 2, 1, 2],[4, 7, 2, 1, 3],[4, 7, 2, 1, 4],\n",
    "                 [4, 7, 2, 1, 5],[4, 7, 2, 1, 6],[4, 7, 2, 1, 7],[4, 7, 2, 1, 8],[4, 7, 2, 1, 9],\n",
    "                 [4, 8, 3, 1, 1],[4, 8, 3, 1, 2],[4, 8, 3, 1, 3],[4, 8, 3, 1, 4],[4, 8, 3, 1, 5],\n",
    "                 [4, 8, 3, 1, 6],[4, 8, 3, 1, 7],[4, 8, 3, 1, 8],[5, 1, 5, 1, 4],[5, 1, 5, 1, 5],\n",
    "                 [5, 1, 5, 1, 6],[5, 1, 5, 1, 7],[5, 1, 5, 1, 8],[5, 1, 5, 1, 9]]\n",
    "\n",
    "if sol == []:\n",
    "    print('No solution')\n",
    "else:\n",
    "    if sol in all_solutions:\n",
    "        print('Solution found:', sol)\n",
    "    else:\n",
    "        print('ERROR: False solution found:', sol)"
   ]
  },
  {
   "cell_type": "markdown",
   "metadata": {
    "id": "_yxCOqLJZ7q3"
   },
   "source": [
    "## Problem 3: The N-Rooks Problem\n",
    "---\n",
    "\n",
    "Rooks can move any number of squares horizontally or vertically on a chess board. The n rooks problem is to arrange rooks on an $n\\times n$ board in such a way that none of the rooks could bump into another by making any of its possible horizontal or vertical moves. \n",
    "\n",
    "For this problem, the variables are each column (labeled 0, 1, ... , $ n-1$), the the domain consists of each possible row (also labeled 0, 1, ... , $ n-1$). In each column we place a rook on row 0, row 1, ... , row $n-1$.\n",
    "\n",
    "For example, if $n=2$ we have only two solutions to this problem:\n",
    "\n",
    "    R @\n",
    "    @ R \n",
    "    \n",
    "or\n",
    "\n",
    "    @ R\n",
    "    R @ \n",
    "   "
   ]
  },
  {
   "cell_type": "markdown",
   "metadata": {
    "id": "F49gSYxCYDyR"
   },
   "source": [
    "### Part 1)\n",
    "How many possible solutions are there to this CSP, in terms of n?  Also, give a simple proof that your answer is correct."
   ]
  },
  {
   "cell_type": "markdown",
   "metadata": {
    "id": "hIpFqQRPZ7q4"
   },
   "source": [
    "[YOUR ANSWER HERE]\n"
   ]
  },
  {
   "cell_type": "markdown",
   "metadata": {
    "id": "mdxspP29Z7q5"
   },
   "source": [
    "### Python Library to solve CSPs\n",
    "\n",
    "One useful Python module for solving these types of problems is called *constraint*. In the next cell you'll see how to load this module into a Jupyter notebook running in Colab. \n",
    "\n",
    "We'll use this module to solve the following simple CSP. Suppose our variables are x and y, and the values they are allowed to assume are numbers in the domain {1, 2, ... , 100}, and with constraints be that $x^2=y$ and that $x$ is odd."
   ]
  },
  {
   "cell_type": "code",
   "execution_count": null,
   "metadata": {
    "id": "nBzBpOscZ7q5"
   },
   "outputs": [],
   "source": [
    "# The following line imports the constraint module into a Jupyter notebook running in Colab.\n",
    "# (This only needs to be done once per session)\n",
    "\n",
    "!pip install python-constraint\n",
    "\n",
    "# Let's load all the functions available in this module\n",
    "# (This only needs to be done once per session)\n",
    "\n",
    "from constraint import *\n",
    "\n",
    "# Now we initialize a new problem and add the two variables.\n",
    "problem = Problem()\n",
    "problem.addVariables([\"x\", \"y\"], list(range(1, 101)))\n",
    "\n",
    "# So far there are no constraints. If we solve the problem with no constraints, \n",
    "# then every possible combination of x and y values from 1 to 100 are valid solutions.\n",
    "solutions = problem.getSolutions()\n",
    "\n",
    "# Total number of solutions\n",
    "print( len(solutions) )"
   ]
  },
  {
   "cell_type": "code",
   "execution_count": null,
   "metadata": {
    "id": "2UNXurz2Z7q8"
   },
   "outputs": [],
   "source": [
    "# Add the given constraints:\n",
    "problem.addConstraint(lambda a, b: a**2 == b and (a % 2) == 1, (\"x\", \"y\"))\n",
    "\n",
    "# There are only 5 solutions that satisfy those constraints:\n",
    "solutions = problem.getSolutions()\n",
    "print( len(solutions) )"
   ]
  },
  {
   "cell_type": "code",
   "execution_count": null,
   "metadata": {
    "id": "VZ7n1ANYZ7rB"
   },
   "outputs": [],
   "source": [
    "# Here are all 5 solutions:\n",
    "print(solutions)"
   ]
  },
  {
   "cell_type": "markdown",
   "metadata": {
    "id": "1yJZnXU9Z7rE"
   },
   "source": [
    "Notice that the solutions consist of a list of dictionaries, where each dictionary represents a solution. For example, the first solution is {'x': 9, 'y': 81}, since with $x=9$ and $y=81$ it's true that $x^2=y$."
   ]
  },
  {
   "cell_type": "markdown",
   "metadata": {
    "id": "N5XEr0oiZ7rF"
   },
   "source": [
    "### Part 2) The n-rooks problem revisited\n",
    "\n",
    "Modify the example before to solve the n-rooks problem."
   ]
  },
  {
   "cell_type": "code",
   "execution_count": null,
   "metadata": {
    "id": "djJ-an18Z7rF"
   },
   "outputs": [],
   "source": [
    "### YOUR CODE HERE ###"
   ]
  },
  {
   "cell_type": "markdown",
   "metadata": {
    "id": "gNKId_tZZ7rM"
   },
   "source": [
    "### Part 3)\n",
    "\n",
    "*   How many ways are there of arranging $8$ rooks on an $8\\times8$ board so that none impede the others?\n",
    "*   How many ways are there arranging $11$ rooks on an $11\\times11$ board so that none impede the others?\n"
   ]
  },
  {
   "cell_type": "markdown",
   "metadata": {
    "id": "x4iDMQ42Z7rM"
   },
   "source": [
    "[YOUR ANSWER HERE]\n",
    "\n"
   ]
  }
 ],
 "metadata": {
  "colab": {
   "provenance": []
  },
  "kernelspec": {
   "display_name": "Python 3 (ipykernel)",
   "language": "python",
   "name": "python3"
  },
  "language_info": {
   "codemirror_mode": {
    "name": "ipython",
    "version": 3
   },
   "file_extension": ".py",
   "mimetype": "text/x-python",
   "name": "python",
   "nbconvert_exporter": "python",
   "pygments_lexer": "ipython3",
   "version": "3.9.13"
  }
 },
 "nbformat": 4,
 "nbformat_minor": 1
}
